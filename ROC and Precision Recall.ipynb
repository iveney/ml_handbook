{
 "cells": [
  {
   "cell_type": "markdown",
   "metadata": {},
   "source": [
    "ROC is defined as TPR vs FPR, where\n",
    "TPR = TP / (TP + FN), measures Type-II error (checks the ability the classifier to find positive)\n",
    "FPR = FP / (FP + TN), measures Type-I error (checks the ability the classifier to find negative)\n",
    "\n",
    "P/R is defined as precision vs recall, where\n",
    "precision = TP / (TP + FP), \n",
    "recall = TPR = TP / (TP + FN)"
   ]
  },
  {
   "cell_type": "code",
   "execution_count": null,
   "metadata": {
    "collapsed": true
   },
   "outputs": [],
   "source": []
  }
 ],
 "metadata": {
  "kernelspec": {
   "display_name": "Python 3",
   "language": "python",
   "name": "python3"
  },
  "language_info": {
   "codemirror_mode": {
    "name": "ipython",
    "version": 3
   },
   "file_extension": ".py",
   "mimetype": "text/x-python",
   "name": "python",
   "nbconvert_exporter": "python",
   "pygments_lexer": "ipython3",
   "version": "3.4.3"
  }
 },
 "nbformat": 4,
 "nbformat_minor": 1
}
